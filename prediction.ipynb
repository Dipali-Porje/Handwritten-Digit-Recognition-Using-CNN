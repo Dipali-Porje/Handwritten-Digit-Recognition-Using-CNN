{
 "cells": [
  {
   "cell_type": "markdown",
   "id": "2f6104b5",
   "metadata": {},
   "source": [
    "Predict Handwritten Digit Using GUI"
   ]
  },
  {
   "cell_type": "code",
   "execution_count": null,
   "id": "d457ae2f",
   "metadata": {},
   "outputs": [
    {
     "name": "stderr",
     "output_type": "stream",
     "text": [
      "WARNING:absl:Compiled the loaded model, but the compiled metrics have yet to be built. `model.compile_metrics` will be empty until you train or evaluate the model.\n"
     ]
    },
    {
     "name": "stdout",
     "output_type": "stream",
     "text": [
      "\u001b[1m1/1\u001b[0m \u001b[32m━━━━━━━━━━━━━━━━━━━━\u001b[0m\u001b[37m\u001b[0m \u001b[1m0s\u001b[0m 102ms/step\n",
      "\u001b[1m1/1\u001b[0m \u001b[32m━━━━━━━━━━━━━━━━━━━━\u001b[0m\u001b[37m\u001b[0m \u001b[1m0s\u001b[0m 39ms/step\n",
      "\u001b[1m1/1\u001b[0m \u001b[32m━━━━━━━━━━━━━━━━━━━━\u001b[0m\u001b[37m\u001b[0m \u001b[1m0s\u001b[0m 39ms/step\n",
      "\u001b[1m1/1\u001b[0m \u001b[32m━━━━━━━━━━━━━━━━━━━━\u001b[0m\u001b[37m\u001b[0m \u001b[1m0s\u001b[0m 35ms/step\n",
      "\u001b[1m1/1\u001b[0m \u001b[32m━━━━━━━━━━━━━━━━━━━━\u001b[0m\u001b[37m\u001b[0m \u001b[1m0s\u001b[0m 47ms/step\n"
     ]
    }
   ],
   "source": [
    "import tkinter as tk\n",
    "from tkinter import filedialog\n",
    "from PIL import Image, ImageTk\n",
    "import numpy as np\n",
    "import cv2\n",
    "import tensorflow as tf\n",
    "from tensorflow.keras.models import load_model\n",
    "\n",
    "# Load trained model\n",
    "model = load_model(\"digit_cnn_model.h5\")\n",
    "\n",
    "# Preprocess image for model\n",
    "def preprocess_image(path):\n",
    "    img = Image.open(path).convert(\"L\")  # grayscale\n",
    "    img = img.resize((28, 28))\n",
    "    img = np.array(img)\n",
    "    img = 255 - img  # Invert if needed\n",
    "    img = img / 255.0\n",
    "    img = img.reshape(1, 28, 28, 1)\n",
    "    return img\n",
    "\n",
    "# Predict digit\n",
    "def predict_digit():\n",
    "    file_path = filedialog.askopenfilename()\n",
    "    if not file_path:\n",
    "        return\n",
    "\n",
    "    # Display image\n",
    "    img = Image.open(file_path)\n",
    "    img_resized = img.resize((150, 150))\n",
    "    img_display = ImageTk.PhotoImage(img_resized)\n",
    "    canvas.create_image(75, 75, image=img_display)\n",
    "    canvas.image = img_display\n",
    "\n",
    "    # Preprocess and predict\n",
    "    preprocessed = preprocess_image(file_path)\n",
    "    prediction = model.predict(preprocessed)\n",
    "    digit = np.argmax(prediction)\n",
    "\n",
    "    result_label.config(text=f\"Predicted Digit: {digit}\")\n",
    "\n",
    "# Tkinter UI\n",
    "root = tk.Tk()\n",
    "root.title(\"Handwritten Digit Recognizer\")\n",
    "root.geometry(\"300x350\")\n",
    "\n",
    "canvas = tk.Canvas(root, width=300, height=300)\n",
    "canvas.pack(pady=10)\n",
    "\n",
    "upload_btn = tk.Button(root, text=\"Upload Digit Image\", command=predict_digit)\n",
    "upload_btn.pack(pady=10)\n",
    "\n",
    "result_label = tk.Label(root, text=\"Predicted Digit: \", font=(\"Arial\", 16))\n",
    "result_label.pack(pady=10)\n",
    "\n",
    "root.mainloop()\n"
   ]
  },
  {
   "cell_type": "markdown",
   "id": "8ece0f92",
   "metadata": {},
   "source": [
    "Predict Handwritten Digit by Giving Image Path"
   ]
  },
  {
   "cell_type": "code",
   "execution_count": 1,
   "id": "62c7c91e",
   "metadata": {},
   "outputs": [
    {
     "name": "stderr",
     "output_type": "stream",
     "text": [
      "WARNING:absl:Compiled the loaded model, but the compiled metrics have yet to be built. `model.compile_metrics` will be empty until you train or evaluate the model.\n"
     ]
    },
    {
     "name": "stdout",
     "output_type": "stream",
     "text": [
      "\u001b[1m1/1\u001b[0m \u001b[32m━━━━━━━━━━━━━━━━━━━━\u001b[0m\u001b[37m\u001b[0m \u001b[1m0s\u001b[0m 84ms/step\n",
      "✅ Predicted Number: 2\n"
     ]
    }
   ],
   "source": [
    "import cv2\n",
    "import numpy as np\n",
    "from tensorflow.keras.models import load_model\n",
    "\n",
    "# Load model\n",
    "model = load_model(\"digit_cnn_model.h5\")\n",
    "\n",
    "# Load input image\n",
    "img = cv2.imread(r\"C:\\Users\\porje\\Downloads\\eq.jpg\", cv2.IMREAD_GRAYSCALE)  # Change to your file name\n",
    "\n",
    "if img is None:\n",
    "    print(\"❌ Image not found.\")\n",
    "    exit()\n",
    "\n",
    "# Resize and threshold\n",
    "img = cv2.resize(img, (300, 100))  # Wider size to fit multiple digits\n",
    "_, thresh = cv2.threshold(img, 120, 255, cv2.THRESH_BINARY_INV)\n",
    "\n",
    "# Find digit contours\n",
    "contours, _ = cv2.findContours(thresh, cv2.RETR_EXTERNAL, cv2.CHAIN_APPROX_SIMPLE)\n",
    "\n",
    "digit_boxes = []\n",
    "for contour in contours:\n",
    "    x, y, w, h = cv2.boundingRect(contour)\n",
    "    if w > 10 and h > 10:  # Filter out small noise\n",
    "        digit_boxes.append((x, y, w, h))\n",
    "\n",
    "# Sort boxes left to right\n",
    "digit_boxes = sorted(digit_boxes, key=lambda box: box[0])\n",
    "\n",
    "predicted_number = \"\"\n",
    "\n",
    "for x, y, w, h in digit_boxes:\n",
    "    roi = thresh[y:y+h, x:x+w]\n",
    "    roi_resized = cv2.resize(roi, (28, 28))\n",
    "    roi_normalized = roi_resized / 255.0\n",
    "    roi_reshaped = roi_normalized.reshape(1, 28, 28, 1)\n",
    "\n",
    "    pred = model.predict(roi_reshaped)\n",
    "    digit = np.argmax(pred)\n",
    "    predicted_number += str(digit)\n",
    "\n",
    "print(\"✅ Predicted Number:\", predicted_number)\n"
   ]
  },
  {
   "cell_type": "code",
   "execution_count": null,
   "id": "2f146648",
   "metadata": {},
   "outputs": [],
   "source": []
  },
  {
   "cell_type": "code",
   "execution_count": null,
   "id": "c7e5c31b",
   "metadata": {},
   "outputs": [],
   "source": []
  },
  {
   "cell_type": "code",
   "execution_count": null,
   "id": "62f9a617",
   "metadata": {},
   "outputs": [],
   "source": []
  },
  {
   "cell_type": "code",
   "execution_count": null,
   "id": "25021b0d",
   "metadata": {},
   "outputs": [],
   "source": []
  },
  {
   "cell_type": "code",
   "execution_count": null,
   "id": "524ea6a9",
   "metadata": {},
   "outputs": [],
   "source": []
  }
 ],
 "metadata": {
  "kernelspec": {
   "display_name": "Python 3",
   "language": "python",
   "name": "python3"
  },
  "language_info": {
   "codemirror_mode": {
    "name": "ipython",
    "version": 3
   },
   "file_extension": ".py",
   "mimetype": "text/x-python",
   "name": "python",
   "nbconvert_exporter": "python",
   "pygments_lexer": "ipython3",
   "version": "3.10.0"
  }
 },
 "nbformat": 4,
 "nbformat_minor": 5
}
